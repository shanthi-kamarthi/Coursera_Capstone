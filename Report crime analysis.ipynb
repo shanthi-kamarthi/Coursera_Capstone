{
 "cells": [
  {
   "cell_type": "markdown",
   "metadata": {},
   "source": [
    "# Capstone Project-Battle of Neighbourhoods with Crime data in NewYork\n",
    "\n",
    "### 1. Problem statement:\n",
    " Crimes now days are increasing day by day and with different level of intensity and versatility. The result is great loss to society in terms of monitory loss, social loss and further it enhances the level of threat against the smooth livelihood in the society. To overcome this problem the computing era can help to reduce the crime or even may be helpful in predicting the crime so that sufficient measures can be taken to minimize the loss to property and life. The crime rate prediction strategies can be applied on historical data available in the police records by examining the data at various angles like reason of crime, frequency of similar kind of crimes at specific location with other parameters to prepare model the crime prediction. It is the major challenge to understand the versatile data available with us then model it to predict the future incidence with acceptable accuracy and further to reduce the crime rate. In this project we are going to find in which particular locations or neighbourhoods are do we need to focus and take certain actions to reduce crimes. Trying to locate patterns among neighbourhoods related to crimes.\n",
    "Present we consider New York crime data set for analysis along with foursquare locations data.\n"
   ]
  },
  {
   "cell_type": "markdown",
   "metadata": {},
   "source": [
    "### 2. Analytical Approach:\n",
    "Unsupervised learning to  find patterns of crimes in New York city and its neighbourhood places :  K-means clustering will be used to compare crimes\n"
   ]
  },
  {
   "cell_type": "markdown",
   "metadata": {},
   "source": [
    "### 3. Data Collection\n",
    "1.\tNew York crime data from https://data.cityofnewyork.us/Public-Safety/NYPD-Complaint-Data-Current-Year-To-Date-/5uac-w243\n",
    "This dataset includes all valid felony, misdemeanor, and violation crimes reported to the New York City Police Department (NYPD) for all complete quarters from 2016 to 2019.\n",
    "This data set consists data about neighbourhood name, crime, date ,place  and location details. From this data we can able to extract the no. of crimes in each neighbourhood and stats about crimes etc..\n",
    "\n",
    "2.\tFoursquare api for extacting neighbourhoods and venues details.\n",
    "The collected data consists of NYC venues with compact metadata like id, name, location, checkins count (total checkins ever done in that venue), users count (total users who have ever checked in), tip count (total number of tips written by users), associated categories, menu, etc. The Foursquare categories span a broad ontology, with the following 10 categories on the first level: (1) Arts and Entertainment, (2) College and University, (3) Event, (4) Food, (5) Nightlife Spot, (6) Outdoors and Recreation, (7) Professional and Other Places, (8) Residence, (9) Shop and Service, (10) Travel and Transport.\n"
   ]
  },
  {
   "cell_type": "markdown",
   "metadata": {},
   "source": [
    "Installation of required packages for data collection and Exploration of the data"
   ]
  },
  {
   "cell_type": "code",
   "execution_count": 56,
   "metadata": {
    "scrolled": true
   },
   "outputs": [
    {
     "data": {
      "text/html": [
       "<div>\n",
       "<style scoped>\n",
       "    .dataframe tbody tr th:only-of-type {\n",
       "        vertical-align: middle;\n",
       "    }\n",
       "\n",
       "    .dataframe tbody tr th {\n",
       "        vertical-align: top;\n",
       "    }\n",
       "\n",
       "    .dataframe thead th {\n",
       "        text-align: right;\n",
       "    }\n",
       "</style>\n",
       "<table border=\"1\" class=\"dataframe\">\n",
       "  <thead>\n",
       "    <tr style=\"text-align: right;\">\n",
       "      <th></th>\n",
       "      <th>Longitude</th>\n",
       "      <th>Latitude</th>\n",
       "      <th>Neighbourhood</th>\n",
       "      <th>BOROUGH</th>\n",
       "    </tr>\n",
       "  </thead>\n",
       "  <tbody>\n",
       "    <tr>\n",
       "      <th>0</th>\n",
       "      <td>-73.847201</td>\n",
       "      <td>40.894705</td>\n",
       "      <td>Wakefield</td>\n",
       "      <td>Bronx</td>\n",
       "    </tr>\n",
       "    <tr>\n",
       "      <th>1</th>\n",
       "      <td>-73.829939</td>\n",
       "      <td>40.874294</td>\n",
       "      <td>Co-op City</td>\n",
       "      <td>Bronx</td>\n",
       "    </tr>\n",
       "    <tr>\n",
       "      <th>2</th>\n",
       "      <td>-73.827806</td>\n",
       "      <td>40.887556</td>\n",
       "      <td>Eastchester</td>\n",
       "      <td>Bronx</td>\n",
       "    </tr>\n",
       "    <tr>\n",
       "      <th>3</th>\n",
       "      <td>-73.905643</td>\n",
       "      <td>40.895437</td>\n",
       "      <td>Fieldston</td>\n",
       "      <td>Bronx</td>\n",
       "    </tr>\n",
       "    <tr>\n",
       "      <th>4</th>\n",
       "      <td>-73.912585</td>\n",
       "      <td>40.890834</td>\n",
       "      <td>Riverdale</td>\n",
       "      <td>Bronx</td>\n",
       "    </tr>\n",
       "  </tbody>\n",
       "</table>\n",
       "</div>"
      ],
      "text/plain": [
       "   Longitude   Latitude Neighbourhood BOROUGH\n",
       "0 -73.847201  40.894705     Wakefield   Bronx\n",
       "1 -73.829939  40.874294    Co-op City   Bronx\n",
       "2 -73.827806  40.887556   Eastchester   Bronx\n",
       "3 -73.905643  40.895437     Fieldston   Bronx\n",
       "4 -73.912585  40.890834     Riverdale   Bronx"
      ]
     },
     "execution_count": 56,
     "metadata": {},
     "output_type": "execute_result"
    }
   ],
   "source": [
    "ny_neigh.head()"
   ]
  },
  {
   "cell_type": "markdown",
   "metadata": {},
   "source": [
    "#### Load and explore the data"
   ]
  },
  {
   "cell_type": "code",
   "execution_count": 60,
   "metadata": {
    "scrolled": true
   },
   "outputs": [
    {
     "data": {
      "text/html": [
       "<div>\n",
       "<style scoped>\n",
       "    .dataframe tbody tr th:only-of-type {\n",
       "        vertical-align: middle;\n",
       "    }\n",
       "\n",
       "    .dataframe tbody tr th {\n",
       "        vertical-align: top;\n",
       "    }\n",
       "\n",
       "    .dataframe thead th {\n",
       "        text-align: right;\n",
       "    }\n",
       "</style>\n",
       "<table border=\"1\" class=\"dataframe\">\n",
       "  <thead>\n",
       "    <tr style=\"text-align: right;\">\n",
       "      <th></th>\n",
       "      <th>Longitude</th>\n",
       "      <th>Latitude</th>\n",
       "      <th>Neighbourhood</th>\n",
       "    </tr>\n",
       "    <tr>\n",
       "      <th>BOROUGH</th>\n",
       "      <th></th>\n",
       "      <th></th>\n",
       "      <th></th>\n",
       "    </tr>\n",
       "  </thead>\n",
       "  <tbody>\n",
       "    <tr>\n",
       "      <th>Bronx</th>\n",
       "      <td>49</td>\n",
       "      <td>49</td>\n",
       "      <td>49</td>\n",
       "    </tr>\n",
       "    <tr>\n",
       "      <th>Brooklyn</th>\n",
       "      <td>71</td>\n",
       "      <td>71</td>\n",
       "      <td>71</td>\n",
       "    </tr>\n",
       "    <tr>\n",
       "      <th>Manhattan</th>\n",
       "      <td>39</td>\n",
       "      <td>39</td>\n",
       "      <td>39</td>\n",
       "    </tr>\n",
       "    <tr>\n",
       "      <th>Queens</th>\n",
       "      <td>78</td>\n",
       "      <td>78</td>\n",
       "      <td>78</td>\n",
       "    </tr>\n",
       "    <tr>\n",
       "      <th>Staten Island</th>\n",
       "      <td>62</td>\n",
       "      <td>62</td>\n",
       "      <td>62</td>\n",
       "    </tr>\n",
       "  </tbody>\n",
       "</table>\n",
       "</div>"
      ],
      "text/plain": [
       "               Longitude  Latitude  Neighbourhood\n",
       "BOROUGH                                          \n",
       "Bronx                 49        49             49\n",
       "Brooklyn              71        71             71\n",
       "Manhattan             39        39             39\n",
       "Queens                78        78             78\n",
       "Staten Island         62        62             62"
      ]
     },
     "execution_count": 60,
     "metadata": {},
     "output_type": "execute_result"
    }
   ],
   "source": [
    "ny_neigh.groupby(['BOROUGH']).count()"
   ]
  },
  {
   "cell_type": "code",
   "execution_count": 82,
   "metadata": {
    "collapsed": true
   },
   "outputs": [],
   "source": [
    "ny_neigh['BOROUGH']=ny_neigh['BOROUGH'].str.upper()"
   ]
  },
  {
   "cell_type": "markdown",
   "metadata": {},
   "source": [
    "#### 4. Data preprocessing"
   ]
  },
  {
   "cell_type": "code",
   "execution_count": 64,
   "metadata": {},
   "outputs": [
    {
     "data": {
      "text/plain": [
       "BORO_NM              240\n",
       "OFNS_DESC             10\n",
       "CMPLNT_FR_DT           0\n",
       "SUSP_SEX           82125\n",
       "SUSP_AGE_GROUP     82125\n",
       "VIC_SEX                0\n",
       "VIC_AGE_GROUP          0\n",
       "Latitude          322048\n",
       "Longitude         322048\n",
       "dtype: int64"
      ]
     },
     "execution_count": 64,
     "metadata": {},
     "output_type": "execute_result"
    }
   ],
   "source": [
    "Ny_data.isna().sum()"
   ]
  },
  {
   "cell_type": "markdown",
   "metadata": {},
   "source": [
    "Filter data with crimes from past 10 years"
   ]
  },
  {
   "cell_type": "code",
   "execution_count": 68,
   "metadata": {
    "collapsed": true
   },
   "outputs": [],
   "source": [
    "Ny_data=Ny_data.loc[Ny_data['YEAR']>=2009]"
   ]
  },
  {
   "cell_type": "markdown",
   "metadata": {},
   "source": [
    "#### Below are the top 10 offences/crimes in Newyork recorded past 10 years"
   ]
  },
  {
   "cell_type": "code",
   "execution_count": 150,
   "metadata": {},
   "outputs": [
    {
     "data": {
      "text/plain": [
       "HARRASSMENT 2                     3471\n",
       "PETIT LARCENY                     2932\n",
       "ASSAULT 3 & RELATED OFFENSES      2540\n",
       "CRIMINAL MISCHIEF & RELATED OF    1399\n",
       "GRAND LARCENY                     1203\n",
       "OFF. AGNST PUB ORD SENSBLTY &      998\n",
       "FELONY ASSAULT                     964\n",
       "MISCELLANEOUS PENAL LAW            679\n",
       "ROBBERY                            653\n",
       "DANGEROUS DRUGS                    614\n",
       "Name: OFFENCE, dtype: int64"
      ]
     },
     "execution_count": 150,
     "metadata": {},
     "output_type": "execute_result"
    }
   ],
   "source": [
    "Ny_data['OFFENCE'].value_counts()[0:10]"
   ]
  },
  {
   "cell_type": "code",
   "execution_count": 152,
   "metadata": {},
   "outputs": [
    {
     "data": {
      "text/html": [
       "<div>\n",
       "<style scoped>\n",
       "    .dataframe tbody tr th:only-of-type {\n",
       "        vertical-align: middle;\n",
       "    }\n",
       "\n",
       "    .dataframe tbody tr th {\n",
       "        vertical-align: top;\n",
       "    }\n",
       "\n",
       "    .dataframe thead th {\n",
       "        text-align: right;\n",
       "    }\n",
       "</style>\n",
       "<table border=\"1\" class=\"dataframe\">\n",
       "  <thead>\n",
       "    <tr style=\"text-align: right;\">\n",
       "      <th></th>\n",
       "      <th>OFFENCE</th>\n",
       "      <th>DATE</th>\n",
       "      <th>SUSPECT_SEX</th>\n",
       "      <th>SUSPECT_AGE</th>\n",
       "      <th>VIC_SEX</th>\n",
       "      <th>VIC_AGE</th>\n",
       "      <th>Latitude</th>\n",
       "      <th>Longitude</th>\n",
       "      <th>MONTH</th>\n",
       "      <th>YEAR</th>\n",
       "    </tr>\n",
       "    <tr>\n",
       "      <th>BOROUGH</th>\n",
       "      <th></th>\n",
       "      <th></th>\n",
       "      <th></th>\n",
       "      <th></th>\n",
       "      <th></th>\n",
       "      <th></th>\n",
       "      <th></th>\n",
       "      <th></th>\n",
       "      <th></th>\n",
       "      <th></th>\n",
       "    </tr>\n",
       "  </thead>\n",
       "  <tbody>\n",
       "    <tr>\n",
       "      <th>BRONX</th>\n",
       "      <td>4137</td>\n",
       "      <td>4137</td>\n",
       "      <td>4137</td>\n",
       "      <td>4137</td>\n",
       "      <td>4137</td>\n",
       "      <td>4137</td>\n",
       "      <td>4137</td>\n",
       "      <td>4137</td>\n",
       "      <td>4137</td>\n",
       "      <td>4137</td>\n",
       "    </tr>\n",
       "    <tr>\n",
       "      <th>BROOKLYN</th>\n",
       "      <td>5112</td>\n",
       "      <td>5112</td>\n",
       "      <td>5112</td>\n",
       "      <td>5112</td>\n",
       "      <td>5112</td>\n",
       "      <td>5112</td>\n",
       "      <td>5112</td>\n",
       "      <td>5112</td>\n",
       "      <td>5112</td>\n",
       "      <td>5112</td>\n",
       "    </tr>\n",
       "    <tr>\n",
       "      <th>MANHATTAN</th>\n",
       "      <td>4514</td>\n",
       "      <td>4514</td>\n",
       "      <td>4514</td>\n",
       "      <td>4514</td>\n",
       "      <td>4514</td>\n",
       "      <td>4514</td>\n",
       "      <td>4514</td>\n",
       "      <td>4514</td>\n",
       "      <td>4514</td>\n",
       "      <td>4514</td>\n",
       "    </tr>\n",
       "    <tr>\n",
       "      <th>QUEENS</th>\n",
       "      <td>3301</td>\n",
       "      <td>3301</td>\n",
       "      <td>3301</td>\n",
       "      <td>3301</td>\n",
       "      <td>3301</td>\n",
       "      <td>3301</td>\n",
       "      <td>3301</td>\n",
       "      <td>3301</td>\n",
       "      <td>3301</td>\n",
       "      <td>3301</td>\n",
       "    </tr>\n",
       "    <tr>\n",
       "      <th>STATEN ISLAND</th>\n",
       "      <td>714</td>\n",
       "      <td>714</td>\n",
       "      <td>714</td>\n",
       "      <td>714</td>\n",
       "      <td>714</td>\n",
       "      <td>714</td>\n",
       "      <td>714</td>\n",
       "      <td>714</td>\n",
       "      <td>714</td>\n",
       "      <td>714</td>\n",
       "    </tr>\n",
       "  </tbody>\n",
       "</table>\n",
       "</div>"
      ],
      "text/plain": [
       "               OFFENCE  DATE  SUSPECT_SEX  SUSPECT_AGE  VIC_SEX  VIC_AGE  \\\n",
       "BOROUGH                                                                    \n",
       "BRONX             4137  4137         4137         4137     4137     4137   \n",
       "BROOKLYN          5112  5112         5112         5112     5112     5112   \n",
       "MANHATTAN         4514  4514         4514         4514     4514     4514   \n",
       "QUEENS            3301  3301         3301         3301     3301     3301   \n",
       "STATEN ISLAND      714   714          714          714      714      714   \n",
       "\n",
       "               Latitude  Longitude  MONTH  YEAR  \n",
       "BOROUGH                                          \n",
       "BRONX              4137       4137   4137  4137  \n",
       "BROOKLYN           5112       5112   5112  5112  \n",
       "MANHATTAN          4514       4514   4514  4514  \n",
       "QUEENS             3301       3301   3301  3301  \n",
       "STATEN ISLAND       714        714    714   714  "
      ]
     },
     "execution_count": 152,
     "metadata": {},
     "output_type": "execute_result"
    }
   ],
   "source": [
    "Ny_data.groupby(['BOROUGH']).count()"
   ]
  },
  {
   "cell_type": "markdown",
   "metadata": {},
   "source": [
    "Extract Location and Neighbourhood and venues,tips,number of checkins data from FoursquareAPI"
   ]
  },
  {
   "cell_type": "code",
   "execution_count": 193,
   "metadata": {},
   "outputs": [
    {
     "name": "stdout",
     "output_type": "stream",
     "text": [
      "The geograpical coordinate of NY are 40.7127281, -74.0060152.\n"
     ]
    }
   ],
   "source": [
    "address = 'New York'\n",
    "geolocator = Nominatim(user_agent=\"foursquare\")\n",
    "location = geolocator.geocode(address)\n",
    "latitude_NY = location.latitude\n",
    "longitude_NY = location.longitude\n",
    "print('The geograpical coordinate of NY are {}, {}.'.format(latitude_NY, longitude_NY))"
   ]
  },
  {
   "cell_type": "markdown",
   "metadata": {},
   "source": [
    "### Foursquare Credentials to extract Venues and neighborhoods"
   ]
  },
  {
   "cell_type": "code",
   "execution_count": 112,
   "metadata": {
    "collapsed": true
   },
   "outputs": [],
   "source": [
    "def get_category_type(row):\n",
    "    try:\n",
    "        categories_list = row['categories']\n",
    "    except:\n",
    "        categories_list = row['venue.categories']\n",
    "        \n",
    "    if len(categories_list) == 0:\n",
    "        return None\n",
    "    else:\n",
    "        return categories_list[0]['name']"
   ]
  },
  {
   "cell_type": "markdown",
   "metadata": {},
   "source": [
    "#### run the above function on each neighborhood and create a new dataframe called *NewYork_venues*."
   ]
  },
  {
   "cell_type": "markdown",
   "metadata": {},
   "source": [
    "\n",
    "### 5.Data Exploration and Visualization"
   ]
  },
  {
   "cell_type": "code",
   "execution_count": 198,
   "metadata": {},
   "outputs": [
    {
     "data": {
      "text/plain": [
       "BOROUGH        SUSPECT_AGE\n",
       "BRONX          25-44          1476\n",
       "               UNKNOWN        1323\n",
       "               18-24           571\n",
       "               45-64           559\n",
       "               <18             169\n",
       "               65+              39\n",
       "BROOKLYN       UNKNOWN        1851\n",
       "               25-44          1788\n",
       "               45-64           670\n",
       "               18-24           563\n",
       "               <18             189\n",
       "               65+              51\n",
       "MANHATTAN      UNKNOWN        1784\n",
       "               25-44          1488\n",
       "               45-64           552\n",
       "               18-24           491\n",
       "               <18             148\n",
       "               65+              51\n",
       "QUEENS         UNKNOWN        1194\n",
       "               25-44          1176\n",
       "               45-64           399\n",
       "               18-24           380\n",
       "               <18             113\n",
       "               65+              39\n",
       "STATEN ISLAND  25-44           253\n",
       "               UNKNOWN         225\n",
       "               18-24            99\n",
       "               45-64            97\n",
       "               <18              30\n",
       "               65+              10\n",
       "Name: SUSPECT_AGE, dtype: int64"
      ]
     },
     "execution_count": 198,
     "metadata": {},
     "output_type": "execute_result"
    }
   ],
   "source": [
    "Ny_df.groupby('BOROUGH')['SUSPECT_AGE'].value_counts()"
   ]
  },
  {
   "cell_type": "markdown",
   "metadata": {},
   "source": [
    "##### most of Middle aged (25-44) years people accused in Crimes in all Borough cities"
   ]
  },
  {
   "cell_type": "code",
   "execution_count": 199,
   "metadata": {},
   "outputs": [
    {
     "data": {
      "text/plain": [
       "BOROUGH        SUSPECT_SEX\n",
       "BRONX          M              2572\n",
       "               F               857\n",
       "               U               708\n",
       "BROOKLYN       M              3068\n",
       "               U              1077\n",
       "               F               967\n",
       "MANHATTAN      M              2805\n",
       "               U               949\n",
       "               F               760\n",
       "QUEENS         M              2000\n",
       "               F               655\n",
       "               U               646\n",
       "STATEN ISLAND  M               463\n",
       "               F               143\n",
       "               U               108\n",
       "Name: SUSPECT_SEX, dtype: int64"
      ]
     },
     "execution_count": 199,
     "metadata": {},
     "output_type": "execute_result"
    }
   ],
   "source": [
    "Ny_df.groupby('BOROUGH')['SUSPECT_SEX'].value_counts()"
   ]
  },
  {
   "cell_type": "markdown",
   "metadata": {},
   "source": [
    "##### Mens are involved in most of the crimes of all Borough cities of NewYork"
   ]
  },
  {
   "cell_type": "code",
   "execution_count": 174,
   "metadata": {},
   "outputs": [
    {
     "data": {
      "image/png": "[encoded data removed]",
      "text/plain": [
       "<Figure size 2880x2880 with 1 Axes>"
      ]
     },
     "metadata": {
      "needs_background": "light"
     },
     "output_type": "display_data"
    }
   ],
   "source": [
    "import seaborn as sns\n",
    "import matplotlib.pyplot as plt\n",
    "plt.figure(figsize=(40,40))\n",
    "sns.countplot(\"OFFENCE\",data=Ny_df,hue=\"BOROUGH\",)\n",
    "plt.show()\n"
   ]
  },
  {
   "cell_type": "markdown",
   "metadata": {},
   "source": [
    "#### From past 10 years most of the happend more in 2019 than 2018 when compared, more crimes are recorded in the city of BROOKLYN\n",
    "has to analyse the recent crime data of 2018 and 2019"
   ]
  },
  {
   "cell_type": "code",
   "execution_count": 207,
   "metadata": {},
   "outputs": [
    {
     "data": {
      "image/png": "[encoded data removed]",
      "text/plain": [
       "<Figure size 576x576 with 1 Axes>"
      ]
     },
     "metadata": {
      "needs_background": "light"
     },
     "output_type": "display_data"
    }
   ],
   "source": [
    "plt.figure(figsize=(8,8))\n",
    "sns.countplot(\"YEAR\",data=Ny_df,hue=\"BOROUGH\",)\n",
    "plt.show()"
   ]
  },
  {
   "cell_type": "code",
   "execution_count": 208,
   "metadata": {
    "collapsed": true
   },
   "outputs": [],
   "source": [
    "Ny_df=Ny_df.loc[Ny_df['YEAR']>=2018]"
   ]
  },
  {
   "cell_type": "code",
   "execution_count": 213,
   "metadata": {
    "collapsed": true
   },
   "outputs": [],
   "source": [
    "Ny_df.drop(['DATE','VIC_SEX','VIC_AGE', 'Latitude', 'Longitude','MONTH'],axis=1,inplace=True)"
   ]
  },
  {
   "cell_type": "code",
   "execution_count": 215,
   "metadata": {},
   "outputs": [
    {
     "data": {
      "text/html": [
       "<div>\n",
       "<style scoped>\n",
       "    .dataframe tbody tr th:only-of-type {\n",
       "        vertical-align: middle;\n",
       "    }\n",
       "\n",
       "    .dataframe tbody tr th {\n",
       "        vertical-align: top;\n",
       "    }\n",
       "\n",
       "    .dataframe thead th {\n",
       "        text-align: right;\n",
       "    }\n",
       "</style>\n",
       "<table border=\"1\" class=\"dataframe\">\n",
       "  <thead>\n",
       "    <tr style=\"text-align: right;\">\n",
       "      <th></th>\n",
       "      <th>BOROUGH</th>\n",
       "      <th>OFFENCE</th>\n",
       "      <th>SUSPECT_SEX</th>\n",
       "      <th>SUSPECT_AGE</th>\n",
       "      <th>YEAR</th>\n",
       "      <th>Neighbourhood</th>\n",
       "    </tr>\n",
       "  </thead>\n",
       "  <tbody>\n",
       "    <tr>\n",
       "      <th>0</th>\n",
       "      <td>BRONX</td>\n",
       "      <td>PETIT LARCENY</td>\n",
       "      <td>M</td>\n",
       "      <td>45-64</td>\n",
       "      <td>2019.0</td>\n",
       "      <td>Wakefield, Co-op City, Eastchester, Fieldston,...</td>\n",
       "    </tr>\n",
       "    <tr>\n",
       "      <th>1</th>\n",
       "      <td>BRONX</td>\n",
       "      <td>ROBBERY</td>\n",
       "      <td>U</td>\n",
       "      <td>UNKNOWN</td>\n",
       "      <td>2019.0</td>\n",
       "      <td>Wakefield, Co-op City, Eastchester, Fieldston,...</td>\n",
       "    </tr>\n",
       "    <tr>\n",
       "      <th>2</th>\n",
       "      <td>BRONX</td>\n",
       "      <td>PETIT LARCENY</td>\n",
       "      <td>M</td>\n",
       "      <td>25-44</td>\n",
       "      <td>2019.0</td>\n",
       "      <td>Wakefield, Co-op City, Eastchester, Fieldston,...</td>\n",
       "    </tr>\n",
       "    <tr>\n",
       "      <th>3</th>\n",
       "      <td>BRONX</td>\n",
       "      <td>HARRASSMENT 2</td>\n",
       "      <td>U</td>\n",
       "      <td>UNKNOWN</td>\n",
       "      <td>2019.0</td>\n",
       "      <td>Wakefield, Co-op City, Eastchester, Fieldston,...</td>\n",
       "    </tr>\n",
       "    <tr>\n",
       "      <th>4</th>\n",
       "      <td>BRONX</td>\n",
       "      <td>DANGEROUS WEAPONS</td>\n",
       "      <td>M</td>\n",
       "      <td>25-44</td>\n",
       "      <td>2019.0</td>\n",
       "      <td>Wakefield, Co-op City, Eastchester, Fieldston,...</td>\n",
       "    </tr>\n",
       "  </tbody>\n",
       "</table>\n",
       "</div>"
      ],
      "text/plain": [
       "  BOROUGH            OFFENCE SUSPECT_SEX SUSPECT_AGE    YEAR  \\\n",
       "0   BRONX      PETIT LARCENY           M       45-64  2019.0   \n",
       "1   BRONX            ROBBERY           U     UNKNOWN  2019.0   \n",
       "2   BRONX      PETIT LARCENY           M       25-44  2019.0   \n",
       "3   BRONX      HARRASSMENT 2           U     UNKNOWN  2019.0   \n",
       "4   BRONX  DANGEROUS WEAPONS           M       25-44  2019.0   \n",
       "\n",
       "                                       Neighbourhood  \n",
       "0  Wakefield, Co-op City, Eastchester, Fieldston,...  \n",
       "1  Wakefield, Co-op City, Eastchester, Fieldston,...  \n",
       "2  Wakefield, Co-op City, Eastchester, Fieldston,...  \n",
       "3  Wakefield, Co-op City, Eastchester, Fieldston,...  \n",
       "4  Wakefield, Co-op City, Eastchester, Fieldston,...  "
      ]
     },
     "execution_count": 215,
     "metadata": {},
     "output_type": "execute_result"
    }
   ],
   "source": [
    "Ny_df.head()"
   ]
  },
  {
   "cell_type": "code",
   "execution_count": 247,
   "metadata": {},
   "outputs": [
    {
     "data": {
      "text/html": [
       "<div>\n",
       "<style scoped>\n",
       "    .dataframe tbody tr th:only-of-type {\n",
       "        vertical-align: middle;\n",
       "    }\n",
       "\n",
       "    .dataframe tbody tr th {\n",
       "        vertical-align: top;\n",
       "    }\n",
       "\n",
       "    .dataframe thead th {\n",
       "        text-align: right;\n",
       "    }\n",
       "</style>\n",
       "<table border=\"1\" class=\"dataframe\">\n",
       "  <thead>\n",
       "    <tr style=\"text-align: right;\">\n",
       "      <th></th>\n",
       "      <th>BOROUGH</th>\n",
       "      <th>Neighbourhood</th>\n",
       "      <th>_BURGLARY</th>\n",
       "      <th>_CRIMINAL MISCHIEF &amp; RELATED OF</th>\n",
       "      <th>_CRIMINAL TRESPASS</th>\n",
       "      <th>_DANGEROUS DRUGS</th>\n",
       "      <th>_DANGEROUS WEAPONS</th>\n",
       "      <th>_FELONY ASSAULT</th>\n",
       "      <th>_FORGERY</th>\n",
       "      <th>_GRAND LARCENY</th>\n",
       "      <th>_HARRASSMENT 2</th>\n",
       "      <th>_INTOXICATED &amp; IMPAIRED DRIVING</th>\n",
       "      <th>_MISCELLANEOUS PENAL LAW</th>\n",
       "      <th>_OFF. AGNST PUB ORD SENSBLTY &amp;</th>\n",
       "      <th>_OFFENSES AGAINST PUBLIC ADMINI</th>\n",
       "      <th>_PETIT LARCENY</th>\n",
       "      <th>_ROBBERY</th>\n",
       "      <th>_SEX CRIMES</th>\n",
       "      <th>_VEHICLE AND TRAFFIC LAWS</th>\n",
       "      <th>_M</th>\n",
       "      <th>_U</th>\n",
       "      <th>_25-44</th>\n",
       "      <th>_45-64</th>\n",
       "      <th>_65+</th>\n",
       "      <th>_&lt;18</th>\n",
       "      <th>_UNKNOWN</th>\n",
       "      <th>_2019.0</th>\n",
       "    </tr>\n",
       "  </thead>\n",
       "  <tbody>\n",
       "    <tr>\n",
       "      <th>0</th>\n",
       "      <td>BRONX</td>\n",
       "      <td>Wakefield, Co-op City, Eastchester, Fieldston,...</td>\n",
       "      <td>0</td>\n",
       "      <td>0</td>\n",
       "      <td>0</td>\n",
       "      <td>0</td>\n",
       "      <td>0</td>\n",
       "      <td>0</td>\n",
       "      <td>0</td>\n",
       "      <td>0</td>\n",
       "      <td>0</td>\n",
       "      <td>0</td>\n",
       "      <td>0</td>\n",
       "      <td>0</td>\n",
       "      <td>0</td>\n",
       "      <td>1</td>\n",
       "      <td>0</td>\n",
       "      <td>0</td>\n",
       "      <td>0</td>\n",
       "      <td>1</td>\n",
       "      <td>0</td>\n",
       "      <td>0</td>\n",
       "      <td>1</td>\n",
       "      <td>0</td>\n",
       "      <td>0</td>\n",
       "      <td>0</td>\n",
       "      <td>1</td>\n",
       "    </tr>\n",
       "    <tr>\n",
       "      <th>1</th>\n",
       "      <td>BRONX</td>\n",
       "      <td>Wakefield, Co-op City, Eastchester, Fieldston,...</td>\n",
       "      <td>0</td>\n",
       "      <td>0</td>\n",
       "      <td>0</td>\n",
       "      <td>0</td>\n",
       "      <td>0</td>\n",
       "      <td>0</td>\n",
       "      <td>0</td>\n",
       "      <td>0</td>\n",
       "      <td>0</td>\n",
       "      <td>0</td>\n",
       "      <td>0</td>\n",
       "      <td>0</td>\n",
       "      <td>0</td>\n",
       "      <td>0</td>\n",
       "      <td>1</td>\n",
       "      <td>0</td>\n",
       "      <td>0</td>\n",
       "      <td>0</td>\n",
       "      <td>1</td>\n",
       "      <td>0</td>\n",
       "      <td>0</td>\n",
       "      <td>0</td>\n",
       "      <td>0</td>\n",
       "      <td>1</td>\n",
       "      <td>1</td>\n",
       "    </tr>\n",
       "    <tr>\n",
       "      <th>2</th>\n",
       "      <td>BRONX</td>\n",
       "      <td>Wakefield, Co-op City, Eastchester, Fieldston,...</td>\n",
       "      <td>0</td>\n",
       "      <td>0</td>\n",
       "      <td>0</td>\n",
       "      <td>0</td>\n",
       "      <td>0</td>\n",
       "      <td>0</td>\n",
       "      <td>0</td>\n",
       "      <td>0</td>\n",
       "      <td>0</td>\n",
       "      <td>0</td>\n",
       "      <td>0</td>\n",
       "      <td>0</td>\n",
       "      <td>0</td>\n",
       "      <td>1</td>\n",
       "      <td>0</td>\n",
       "      <td>0</td>\n",
       "      <td>0</td>\n",
       "      <td>1</td>\n",
       "      <td>0</td>\n",
       "      <td>1</td>\n",
       "      <td>0</td>\n",
       "      <td>0</td>\n",
       "      <td>0</td>\n",
       "      <td>0</td>\n",
       "      <td>1</td>\n",
       "    </tr>\n",
       "    <tr>\n",
       "      <th>3</th>\n",
       "      <td>BRONX</td>\n",
       "      <td>Wakefield, Co-op City, Eastchester, Fieldston,...</td>\n",
       "      <td>0</td>\n",
       "      <td>0</td>\n",
       "      <td>0</td>\n",
       "      <td>0</td>\n",
       "      <td>0</td>\n",
       "      <td>0</td>\n",
       "      <td>0</td>\n",
       "      <td>0</td>\n",
       "      <td>1</td>\n",
       "      <td>0</td>\n",
       "      <td>0</td>\n",
       "      <td>0</td>\n",
       "      <td>0</td>\n",
       "      <td>0</td>\n",
       "      <td>0</td>\n",
       "      <td>0</td>\n",
       "      <td>0</td>\n",
       "      <td>0</td>\n",
       "      <td>1</td>\n",
       "      <td>0</td>\n",
       "      <td>0</td>\n",
       "      <td>0</td>\n",
       "      <td>0</td>\n",
       "      <td>1</td>\n",
       "      <td>1</td>\n",
       "    </tr>\n",
       "    <tr>\n",
       "      <th>4</th>\n",
       "      <td>BRONX</td>\n",
       "      <td>Wakefield, Co-op City, Eastchester, Fieldston,...</td>\n",
       "      <td>0</td>\n",
       "      <td>0</td>\n",
       "      <td>0</td>\n",
       "      <td>0</td>\n",
       "      <td>1</td>\n",
       "      <td>0</td>\n",
       "      <td>0</td>\n",
       "      <td>0</td>\n",
       "      <td>0</td>\n",
       "      <td>0</td>\n",
       "      <td>0</td>\n",
       "      <td>0</td>\n",
       "      <td>0</td>\n",
       "      <td>0</td>\n",
       "      <td>0</td>\n",
       "      <td>0</td>\n",
       "      <td>0</td>\n",
       "      <td>1</td>\n",
       "      <td>0</td>\n",
       "      <td>1</td>\n",
       "      <td>0</td>\n",
       "      <td>0</td>\n",
       "      <td>0</td>\n",
       "      <td>0</td>\n",
       "      <td>1</td>\n",
       "    </tr>\n",
       "  </tbody>\n",
       "</table>\n",
       "</div>"
      ],
      "text/plain": [
       "  BOROUGH                                      Neighbourhood   _BURGLARY  \\\n",
       "0   BRONX  Wakefield, Co-op City, Eastchester, Fieldston,...           0   \n",
       "1   BRONX  Wakefield, Co-op City, Eastchester, Fieldston,...           0   \n",
       "2   BRONX  Wakefield, Co-op City, Eastchester, Fieldston,...           0   \n",
       "3   BRONX  Wakefield, Co-op City, Eastchester, Fieldston,...           0   \n",
       "4   BRONX  Wakefield, Co-op City, Eastchester, Fieldston,...           0   \n",
       "\n",
       "    _CRIMINAL MISCHIEF & RELATED OF   _CRIMINAL TRESPASS   _DANGEROUS DRUGS  \\\n",
       "0                                 0                    0                  0   \n",
       "1                                 0                    0                  0   \n",
       "2                                 0                    0                  0   \n",
       "3                                 0                    0                  0   \n",
       "4                                 0                    0                  0   \n",
       "\n",
       "    _DANGEROUS WEAPONS   _FELONY ASSAULT   _FORGERY   _GRAND LARCENY  \\\n",
       "0                    0                 0          0                0   \n",
       "1                    0                 0          0                0   \n",
       "2                    0                 0          0                0   \n",
       "3                    0                 0          0                0   \n",
       "4                    1                 0          0                0   \n",
       "\n",
       "    _HARRASSMENT 2   _INTOXICATED & IMPAIRED DRIVING  \\\n",
       "0                0                                 0   \n",
       "1                0                                 0   \n",
       "2                0                                 0   \n",
       "3                1                                 0   \n",
       "4                0                                 0   \n",
       "\n",
       "    _MISCELLANEOUS PENAL LAW   _OFF. AGNST PUB ORD SENSBLTY &  \\\n",
       "0                          0                                0   \n",
       "1                          0                                0   \n",
       "2                          0                                0   \n",
       "3                          0                                0   \n",
       "4                          0                                0   \n",
       "\n",
       "    _OFFENSES AGAINST PUBLIC ADMINI   _PETIT LARCENY   _ROBBERY   _SEX CRIMES  \\\n",
       "0                                 0                1          0             0   \n",
       "1                                 0                0          1             0   \n",
       "2                                 0                1          0             0   \n",
       "3                                 0                0          0             0   \n",
       "4                                 0                0          0             0   \n",
       "\n",
       "    _VEHICLE AND TRAFFIC LAWS   _M   _U   _25-44   _45-64   _65+   _<18  \\\n",
       "0                           0    1    0        0        1      0      0   \n",
       "1                           0    0    1        0        0      0      0   \n",
       "2                           0    1    0        1        0      0      0   \n",
       "3                           0    0    1        0        0      0      0   \n",
       "4                           0    1    0        1        0      0      0   \n",
       "\n",
       "    _UNKNOWN   _2019.0  \n",
       "0          0         1  \n",
       "1          1         1  \n",
       "2          0         1  \n",
       "3          1         1  \n",
       "4          0         1  "
      ]
     },
     "execution_count": 247,
     "metadata": {},
     "output_type": "execute_result"
    }
   ],
   "source": [
    "final_df=pd.get_dummies(Ny_df, prefix = \" \", columns=['OFFENCE', 'SUSPECT_SEX', 'SUSPECT_AGE', 'YEAR'],drop_first=True)\n",
    "final_df.head()"
   ]
  },
  {
   "cell_type": "markdown",
   "metadata": {},
   "source": [
    "#### 6.Clustering of Crimes in neighbourhood places for kmeans clustering algorithm\n",
    "##### Elbow method: \n",
    "Calculate the Within-Cluster-Sum of Squared Errors (WSS) for different values of k, and choose the k for which WSS becomes first starts to diminish. In the plot of WSS-versus-k, this is visible as an elbow.\n",
    "Within-Cluster-Sum of Squared Errors sounds a bit complex. Let’s break it down:\n",
    ">The Squared Error for each point is the square of the distance of the point from its representation i.e. its predicted cluster center.\n",
    ">The WSS score is the sum of these Squared Errors for all the points.\n",
    ">Any distance metric like the Euclidean Distance or the Manhattan Distance can be used.\n",
    "\n",
    "We obtain the following plot for WSS-vs-k for our dataset.\n",
    "\n",
    "<img src=\"https://miro.medium.com/max/407/1*O_JmBi6rM6PlrPFx_uNrVQ.png\"\n",
    "     alt=\"Markdown Monster icon\"\n",
    "     style=\"float: left; margin-right: 10px;\" />"
   ]
  },
  {
   "cell_type": "code",
   "execution_count": 257,
   "metadata": {},
   "outputs": [
    {
     "name": "stdout",
     "output_type": "stream",
     "text": [
      "optimal number of clusters: 7\n"
     ]
    }
   ],
   "source": [
    "from numpy import sqrt\n",
    "wcss=calculate_wcss(cl_data)\n",
    "kclusters=optimal_number_of_clusters(wcss)\n",
    "print(\"optimal number of clusters:\",kclusters)\n"
   ]
  },
  {
   "cell_type": "code",
   "execution_count": 258,
   "metadata": {},
   "outputs": [
    {
     "data": {
      "text/plain": [
       "array([4, 3, 2, 3, 2, 6, 2, 6, 3, 3], dtype=int32)"
      ]
     },
     "execution_count": 258,
     "metadata": {},
     "output_type": "execute_result"
    }
   ],
   "source": [
    "# run k-means clustering\n",
    "kmeans = KMeans(n_clusters=kclusters, random_state=0).fit(cl_data)\n",
    "\n",
    "# check cluster labels generated for each row in the dataframe\n",
    "kmeans.labels_[0:10] "
   ]
  },
  {
   "cell_type": "code",
   "execution_count": 279,
   "metadata": {},
   "outputs": [
    {
     "data": {
      "text/html": [
       "<div>\n",
       "<style scoped>\n",
       "    .dataframe tbody tr th:only-of-type {\n",
       "        vertical-align: middle;\n",
       "    }\n",
       "\n",
       "    .dataframe tbody tr th {\n",
       "        vertical-align: top;\n",
       "    }\n",
       "\n",
       "    .dataframe thead th {\n",
       "        text-align: right;\n",
       "    }\n",
       "</style>\n",
       "<table border=\"1\" class=\"dataframe\">\n",
       "  <thead>\n",
       "    <tr style=\"text-align: right;\">\n",
       "      <th></th>\n",
       "      <th>BOROUGH</th>\n",
       "      <th>OFFENCE</th>\n",
       "      <th>SUSPECT_SEX</th>\n",
       "      <th>SUSPECT_AGE</th>\n",
       "      <th>YEAR</th>\n",
       "      <th>Neighbourhood</th>\n",
       "    </tr>\n",
       "    <tr>\n",
       "      <th>Cluster_Labels</th>\n",
       "      <th></th>\n",
       "      <th></th>\n",
       "      <th></th>\n",
       "      <th></th>\n",
       "      <th></th>\n",
       "      <th></th>\n",
       "    </tr>\n",
       "  </thead>\n",
       "  <tbody>\n",
       "    <tr>\n",
       "      <th>0</th>\n",
       "      <td>BROOKLYN</td>\n",
       "      <td>ASSAULT 3 &amp; RELATED OFFENSES</td>\n",
       "      <td>M</td>\n",
       "      <td>18-24</td>\n",
       "      <td>2019.0</td>\n",
       "      <td>Bay Ridge, Bensonhurst, Sunset Park, Greenpoin...</td>\n",
       "    </tr>\n",
       "    <tr>\n",
       "      <th>1</th>\n",
       "      <td>MANHATTAN</td>\n",
       "      <td>HARRASSMENT 2</td>\n",
       "      <td>M</td>\n",
       "      <td>UNKNOWN</td>\n",
       "      <td>2019.0</td>\n",
       "      <td>Marble Hill, Chinatown, Washington Heights, In...</td>\n",
       "    </tr>\n",
       "    <tr>\n",
       "      <th>2</th>\n",
       "      <td>BROOKLYN</td>\n",
       "      <td>ASSAULT 3 &amp; RELATED OFFENSES</td>\n",
       "      <td>M</td>\n",
       "      <td>25-44</td>\n",
       "      <td>2019.0</td>\n",
       "      <td>Bay Ridge, Bensonhurst, Sunset Park, Greenpoin...</td>\n",
       "    </tr>\n",
       "    <tr>\n",
       "      <th>3</th>\n",
       "      <td>BROOKLYN</td>\n",
       "      <td>GRAND LARCENY</td>\n",
       "      <td>U</td>\n",
       "      <td>UNKNOWN</td>\n",
       "      <td>2019.0</td>\n",
       "      <td>Bay Ridge, Bensonhurst, Sunset Park, Greenpoin...</td>\n",
       "    </tr>\n",
       "    <tr>\n",
       "      <th>4</th>\n",
       "      <td>BROOKLYN</td>\n",
       "      <td>HARRASSMENT 2</td>\n",
       "      <td>M</td>\n",
       "      <td>45-64</td>\n",
       "      <td>2019.0</td>\n",
       "      <td>Bay Ridge, Bensonhurst, Sunset Park, Greenpoin...</td>\n",
       "    </tr>\n",
       "    <tr>\n",
       "      <th>5</th>\n",
       "      <td>BROOKLYN</td>\n",
       "      <td>PETIT LARCENY</td>\n",
       "      <td>U</td>\n",
       "      <td>UNKNOWN</td>\n",
       "      <td>2019.0</td>\n",
       "      <td>Bay Ridge, Bensonhurst, Sunset Park, Greenpoin...</td>\n",
       "    </tr>\n",
       "    <tr>\n",
       "      <th>6</th>\n",
       "      <td>BROOKLYN</td>\n",
       "      <td>HARRASSMENT 2</td>\n",
       "      <td>F</td>\n",
       "      <td>25-44</td>\n",
       "      <td>2019.0</td>\n",
       "      <td>Bay Ridge, Bensonhurst, Sunset Park, Greenpoin...</td>\n",
       "    </tr>\n",
       "  </tbody>\n",
       "</table>\n",
       "</div>"
      ],
      "text/plain": [
       "                  BOROUGH                       OFFENCE SUSPECT_SEX  \\\n",
       "Cluster_Labels                                                        \n",
       "0                BROOKLYN  ASSAULT 3 & RELATED OFFENSES           M   \n",
       "1               MANHATTAN                 HARRASSMENT 2           M   \n",
       "2                BROOKLYN  ASSAULT 3 & RELATED OFFENSES           M   \n",
       "3                BROOKLYN                 GRAND LARCENY           U   \n",
       "4                BROOKLYN                 HARRASSMENT 2           M   \n",
       "5                BROOKLYN                 PETIT LARCENY           U   \n",
       "6                BROOKLYN                 HARRASSMENT 2           F   \n",
       "\n",
       "               SUSPECT_AGE    YEAR  \\\n",
       "Cluster_Labels                       \n",
       "0                    18-24  2019.0   \n",
       "1                  UNKNOWN  2019.0   \n",
       "2                    25-44  2019.0   \n",
       "3                  UNKNOWN  2019.0   \n",
       "4                    45-64  2019.0   \n",
       "5                  UNKNOWN  2019.0   \n",
       "6                    25-44  2019.0   \n",
       "\n",
       "                                                    Neighbourhood  \n",
       "Cluster_Labels                                                     \n",
       "0               Bay Ridge, Bensonhurst, Sunset Park, Greenpoin...  \n",
       "1               Marble Hill, Chinatown, Washington Heights, In...  \n",
       "2               Bay Ridge, Bensonhurst, Sunset Park, Greenpoin...  \n",
       "3               Bay Ridge, Bensonhurst, Sunset Park, Greenpoin...  \n",
       "4               Bay Ridge, Bensonhurst, Sunset Park, Greenpoin...  \n",
       "5               Bay Ridge, Bensonhurst, Sunset Park, Greenpoin...  \n",
       "6               Bay Ridge, Bensonhurst, Sunset Park, Greenpoin...  "
      ]
     },
     "execution_count": 279,
     "metadata": {},
     "output_type": "execute_result"
    }
   ],
   "source": [
    "Ny_df.groupby(['Cluster_Labels']).agg(lambda x:x.value_counts().index[0])"
   ]
  },
  {
   "cell_type": "markdown",
   "metadata": {},
   "source": [
    "## Conclusion"
   ]
  },
  {
   "cell_type": "markdown",
   "metadata": {},
   "source": [
    "Above shown table represents Most common offences in each cluster\n",
    "1. Brooklyn city has the highest most common offences in Newyork\n",
    "2. The top most offences in neighborhood cities are Assaults, Harrassment, Grand Larceny etc\n",
    "3. Most of the crimes involved suspects are under the age of 25-44 are men.\n"
   ]
  },
  {
   "cell_type": "code",
   "execution_count": 280,
   "metadata": {},
   "outputs": [
    {
     "data": {
      "text/html": [
       "<div>\n",
       "<style scoped>\n",
       "    .dataframe tbody tr th:only-of-type {\n",
       "        vertical-align: middle;\n",
       "    }\n",
       "\n",
       "    .dataframe tbody tr th {\n",
       "        vertical-align: top;\n",
       "    }\n",
       "\n",
       "    .dataframe thead th {\n",
       "        text-align: right;\n",
       "    }\n",
       "</style>\n",
       "<table border=\"1\" class=\"dataframe\">\n",
       "  <thead>\n",
       "    <tr style=\"text-align: right;\">\n",
       "      <th></th>\n",
       "      <th>BOROUGH</th>\n",
       "      <th>OFFENCE</th>\n",
       "      <th>SUSPECT_SEX</th>\n",
       "      <th>SUSPECT_AGE</th>\n",
       "      <th>YEAR</th>\n",
       "      <th>Neighbourhood</th>\n",
       "    </tr>\n",
       "    <tr>\n",
       "      <th>Cluster_Labels</th>\n",
       "      <th></th>\n",
       "      <th></th>\n",
       "      <th></th>\n",
       "      <th></th>\n",
       "      <th></th>\n",
       "      <th></th>\n",
       "    </tr>\n",
       "  </thead>\n",
       "  <tbody>\n",
       "    <tr>\n",
       "      <th>0</th>\n",
       "      <td>STATEN ISLAND</td>\n",
       "      <td>VEHICLE AND TRAFFIC LAWS</td>\n",
       "      <td>F</td>\n",
       "      <td>65+</td>\n",
       "      <td>2018.0</td>\n",
       "      <td>St. George, New Brighton, Stapleton, Rosebank,...</td>\n",
       "    </tr>\n",
       "    <tr>\n",
       "      <th>1</th>\n",
       "      <td>STATEN ISLAND</td>\n",
       "      <td>DANGEROUS DRUGS</td>\n",
       "      <td>F</td>\n",
       "      <td>UNKNOWN</td>\n",
       "      <td>2018.0</td>\n",
       "      <td>St. George, New Brighton, Stapleton, Rosebank,...</td>\n",
       "    </tr>\n",
       "    <tr>\n",
       "      <th>2</th>\n",
       "      <td>STATEN ISLAND</td>\n",
       "      <td>VEHICLE AND TRAFFIC LAWS</td>\n",
       "      <td>M</td>\n",
       "      <td>25-44</td>\n",
       "      <td>2018.0</td>\n",
       "      <td>St. George, New Brighton, Stapleton, Rosebank,...</td>\n",
       "    </tr>\n",
       "    <tr>\n",
       "      <th>3</th>\n",
       "      <td>STATEN ISLAND</td>\n",
       "      <td>OFFENSES AGAINST PUBLIC ADMINI</td>\n",
       "      <td>F</td>\n",
       "      <td>65+</td>\n",
       "      <td>2018.0</td>\n",
       "      <td>St. George, New Brighton, Stapleton, Rosebank,...</td>\n",
       "    </tr>\n",
       "    <tr>\n",
       "      <th>4</th>\n",
       "      <td>STATEN ISLAND</td>\n",
       "      <td>VEHICLE AND TRAFFIC LAWS</td>\n",
       "      <td>U</td>\n",
       "      <td>45-64</td>\n",
       "      <td>2018.0</td>\n",
       "      <td>St. George, New Brighton, Stapleton, Rosebank,...</td>\n",
       "    </tr>\n",
       "    <tr>\n",
       "      <th>5</th>\n",
       "      <td>STATEN ISLAND</td>\n",
       "      <td>PETIT LARCENY</td>\n",
       "      <td>F</td>\n",
       "      <td>&lt;18</td>\n",
       "      <td>2018.0</td>\n",
       "      <td>St. George, New Brighton, Stapleton, Rosebank,...</td>\n",
       "    </tr>\n",
       "    <tr>\n",
       "      <th>6</th>\n",
       "      <td>STATEN ISLAND</td>\n",
       "      <td>VEHICLE AND TRAFFIC LAWS</td>\n",
       "      <td>U</td>\n",
       "      <td>65+</td>\n",
       "      <td>2018.0</td>\n",
       "      <td>St. George, New Brighton, Stapleton, Rosebank,...</td>\n",
       "    </tr>\n",
       "  </tbody>\n",
       "</table>\n",
       "</div>"
      ],
      "text/plain": [
       "                      BOROUGH                         OFFENCE SUSPECT_SEX  \\\n",
       "Cluster_Labels                                                              \n",
       "0               STATEN ISLAND        VEHICLE AND TRAFFIC LAWS           F   \n",
       "1               STATEN ISLAND                 DANGEROUS DRUGS           F   \n",
       "2               STATEN ISLAND        VEHICLE AND TRAFFIC LAWS           M   \n",
       "3               STATEN ISLAND  OFFENSES AGAINST PUBLIC ADMINI           F   \n",
       "4               STATEN ISLAND        VEHICLE AND TRAFFIC LAWS           U   \n",
       "5               STATEN ISLAND                   PETIT LARCENY           F   \n",
       "6               STATEN ISLAND        VEHICLE AND TRAFFIC LAWS           U   \n",
       "\n",
       "               SUSPECT_AGE    YEAR  \\\n",
       "Cluster_Labels                       \n",
       "0                      65+  2018.0   \n",
       "1                  UNKNOWN  2018.0   \n",
       "2                    25-44  2018.0   \n",
       "3                      65+  2018.0   \n",
       "4                    45-64  2018.0   \n",
       "5                      <18  2018.0   \n",
       "6                      65+  2018.0   \n",
       "\n",
       "                                                    Neighbourhood  \n",
       "Cluster_Labels                                                     \n",
       "0               St. George, New Brighton, Stapleton, Rosebank,...  \n",
       "1               St. George, New Brighton, Stapleton, Rosebank,...  \n",
       "2               St. George, New Brighton, Stapleton, Rosebank,...  \n",
       "3               St. George, New Brighton, Stapleton, Rosebank,...  \n",
       "4               St. George, New Brighton, Stapleton, Rosebank,...  \n",
       "5               St. George, New Brighton, Stapleton, Rosebank,...  \n",
       "6               St. George, New Brighton, Stapleton, Rosebank,...  "
      ]
     },
     "execution_count": 280,
     "metadata": {},
     "output_type": "execute_result"
    }
   ],
   "source": [
    "Ny_df.groupby(['Cluster_Labels']).agg(lambda x:x.value_counts().index[-1])"
   ]
  },
  {
   "cell_type": "markdown",
   "metadata": {},
   "source": [
    "5. Above shown table represents least number of offences happen in STALEN ISLAND in NewYork\n",
    "6. Where female suspects are more involved in offences like Vehical and traffic laws"
   ]
  },
  {
   "cell_type": "markdown",
   "metadata": {},
   "source": [
    "#### Required Enhancements for analysis\n",
    "1. Lack of proper neighborhood location or postalcode in the crime data set\n",
    "2. Crimes may cause due to illiteration areas etc.."
   ]
  },
  {
   "cell_type": "code",
   "execution_count": null,
   "metadata": {
    "collapsed": true
   },
   "outputs": [],
   "source": []
  }
 ],
 "metadata": {
  "kernelspec": {
   "display_name": "Python 3",
   "language": "python",
   "name": "python3"
  },
  "language_info": {
   "codemirror_mode": {
    "name": "ipython",
    "version": 3
   },
   "file_extension": ".py",
   "mimetype": "text/x-python",
   "name": "python",
   "nbconvert_exporter": "python",
   "pygments_lexer": "ipython3",
   "version": "3.6.1"
  }
 },
 "nbformat": 4,
 "nbformat_minor": 4
}
